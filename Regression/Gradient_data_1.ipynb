{
 "cells": [
  {
   "cell_type": "code",
   "execution_count": 1,
   "metadata": {
    "collapsed": true
   },
   "outputs": [],
   "source": [
    "import numpy as np\n",
    "import pandas as pd\n",
    "import matplotlib.pyplot as plt\n",
    "from mpl_toolkits.mplot3d import Axes3D\n",
    "%matplotlib inline"
   ]
  },
  {
   "cell_type": "code",
   "execution_count": 47,
   "metadata": {
    "collapsed": true
   },
   "outputs": [],
   "source": [
    "dataset = pd.read_csv('student.csv')"
   ]
  },
  {
   "cell_type": "code",
   "execution_count": 48,
   "metadata": {},
   "outputs": [
    {
     "data": {
      "text/html": [
       "<div>\n",
       "<style>\n",
       "    .dataframe thead tr:only-child th {\n",
       "        text-align: right;\n",
       "    }\n",
       "\n",
       "    .dataframe thead th {\n",
       "        text-align: left;\n",
       "    }\n",
       "\n",
       "    .dataframe tbody tr th {\n",
       "        vertical-align: top;\n",
       "    }\n",
       "</style>\n",
       "<table border=\"1\" class=\"dataframe\">\n",
       "  <thead>\n",
       "    <tr style=\"text-align: right;\">\n",
       "      <th></th>\n",
       "      <th>Math</th>\n",
       "      <th>Reading</th>\n",
       "      <th>Writing</th>\n",
       "    </tr>\n",
       "  </thead>\n",
       "  <tbody>\n",
       "    <tr>\n",
       "      <th>0</th>\n",
       "      <td>48</td>\n",
       "      <td>68</td>\n",
       "      <td>63</td>\n",
       "    </tr>\n",
       "    <tr>\n",
       "      <th>1</th>\n",
       "      <td>62</td>\n",
       "      <td>81</td>\n",
       "      <td>72</td>\n",
       "    </tr>\n",
       "    <tr>\n",
       "      <th>2</th>\n",
       "      <td>79</td>\n",
       "      <td>80</td>\n",
       "      <td>78</td>\n",
       "    </tr>\n",
       "    <tr>\n",
       "      <th>3</th>\n",
       "      <td>76</td>\n",
       "      <td>83</td>\n",
       "      <td>79</td>\n",
       "    </tr>\n",
       "    <tr>\n",
       "      <th>4</th>\n",
       "      <td>59</td>\n",
       "      <td>64</td>\n",
       "      <td>62</td>\n",
       "    </tr>\n",
       "  </tbody>\n",
       "</table>\n",
       "</div>"
      ],
      "text/plain": [
       "   Math  Reading  Writing\n",
       "0    48       68       63\n",
       "1    62       81       72\n",
       "2    79       80       78\n",
       "3    76       83       79\n",
       "4    59       64       62"
      ]
     },
     "execution_count": 48,
     "metadata": {},
     "output_type": "execute_result"
    }
   ],
   "source": [
    "dataset.head()"
   ]
  },
  {
   "cell_type": "code",
   "execution_count": 51,
   "metadata": {},
   "outputs": [],
   "source": [
    "math = dataset['Math'].values\n",
    "reading = dataset['Reading'].values\n",
    "writing = dataset['Writing'].values"
   ]
  },
  {
   "cell_type": "code",
   "execution_count": 52,
   "metadata": {
    "collapsed": true
   },
   "outputs": [],
   "source": [
    "from sklearn.preprocessing import StandardScaler"
   ]
  },
  {
   "cell_type": "code",
   "execution_count": 53,
   "metadata": {
    "collapsed": true
   },
   "outputs": [],
   "source": [
    "n = len(reading)\n",
    "X0 = np.ones(n)\n",
    "X = np.array([X0, math, reading]).T\n",
    "y = np.array(writing)\n",
    "B = np.zeros(3)"
   ]
  },
  {
   "cell_type": "code",
   "execution_count": 23,
   "metadata": {},
   "outputs": [
    {
     "name": "stderr",
     "output_type": "stream",
     "text": [
      "C:\\Users\\asus\\Anaconda3\\lib\\site-packages\\sklearn\\utils\\validation.py:475: DataConversionWarning: Data with input dtype int64 was converted to float64 by StandardScaler.\n",
      "  warnings.warn(msg, DataConversionWarning)\n"
     ]
    }
   ],
   "source": [
    "sc = StandardScaler()\n",
    "X = sc.fit_transform(X)\n",
    "y = y.reshape(y.shape[0],1)\n",
    "y = sc.fit_transform(y)"
   ]
  },
  {
   "cell_type": "code",
   "execution_count": 54,
   "metadata": {},
   "outputs": [
    {
     "data": {
      "text/plain": [
       "(1000, 3)"
      ]
     },
     "execution_count": 54,
     "metadata": {},
     "output_type": "execute_result"
    }
   ],
   "source": [
    "X.shape"
   ]
  },
  {
   "cell_type": "code",
   "execution_count": 55,
   "metadata": {},
   "outputs": [
    {
     "data": {
      "text/plain": [
       "((1000, 3), (3,), (1000,))"
      ]
     },
     "execution_count": 55,
     "metadata": {},
     "output_type": "execute_result"
    }
   ],
   "source": [
    "X.shape, B.shape, y.shape"
   ]
  },
  {
   "cell_type": "code",
   "execution_count": 56,
   "metadata": {
    "collapsed": true
   },
   "outputs": [],
   "source": [
    "def cost_function(X,y,B):\n",
    "    h = np.sum((X.dot(B) - y) ** 2) / (2 * n)\n",
    "    return h"
   ]
  },
  {
   "cell_type": "code",
   "execution_count": 57,
   "metadata": {},
   "outputs": [
    {
     "data": {
      "text/plain": [
       "2470.1100000000001"
      ]
     },
     "execution_count": 57,
     "metadata": {},
     "output_type": "execute_result"
    }
   ],
   "source": [
    "cost_function(X,y,B)"
   ]
  },
  {
   "cell_type": "code",
   "execution_count": 63,
   "metadata": {
    "collapsed": true
   },
   "outputs": [],
   "source": [
    "def gradient_descent(X,y,B,epoch,alpha):\n",
    "    cost_history = [0] * epoch\n",
    "    \n",
    "    for i in range(epoch):\n",
    "        y_pred = X.dot(B)\n",
    "        loss = y_pred - y\n",
    "        gradient = X.T.dot(loss) / n\n",
    "        B = B - alpha * gradient\n",
    "        cost_history[i] = cost_function(X,y,B)\n",
    "        print(i, cost_history[i])\n",
    "    \n",
    "    return cost_history, B"
   ]
  },
  {
   "cell_type": "code",
   "execution_count": 64,
   "metadata": {},
   "outputs": [
    {
     "name": "stdout",
     "output_type": "stream",
     "text": [
      "0 18.0760279409\n",
      "1 17.1309443192\n",
      "2 17.073468284\n",
      "3 17.0168059174\n",
      "4 16.9606320225\n",
      "5 16.904942274\n",
      "6 16.8497324991\n",
      "7 16.794998561\n",
      "8 16.7407363587\n",
      "9 16.6869418263\n",
      "10 16.6336109331\n",
      "11 16.5807396832\n",
      "12 16.5283241148\n",
      "13 16.4763603008\n",
      "14 16.4248443474\n",
      "15 16.3737723947\n",
      "16 16.323140616\n",
      "17 16.2729452174\n",
      "18 16.223182438\n",
      "19 16.173848549\n",
      "20 16.1249398541\n",
      "21 16.0764526885\n",
      "22 16.0283834192\n",
      "23 15.9807284444\n",
      "24 15.9334841934\n",
      "25 15.8866471264\n",
      "26 15.8402137338\n",
      "27 15.7941805365\n",
      "28 15.7485440853\n",
      "29 15.7033009608\n",
      "30 15.658447773\n",
      "31 15.613981161\n",
      "32 15.5698977932\n",
      "33 15.5261943663\n",
      "34 15.4828676059\n",
      "35 15.4399142654\n",
      "36 15.3973311264\n",
      "37 15.3551149984\n",
      "38 15.3132627181\n",
      "39 15.2717711495\n",
      "40 15.2306371839\n",
      "41 15.189857739\n",
      "42 15.1494297595\n",
      "43 15.109350216\n",
      "44 15.0696161055\n",
      "45 15.0302244509\n",
      "46 14.9911723004\n",
      "47 14.9524567281\n",
      "48 14.9140748331\n",
      "49 14.8760237394\n",
      "50 14.838300596\n",
      "51 14.8009025763\n",
      "52 14.7638268782\n",
      "53 14.7270707237\n",
      "54 14.6906313587\n",
      "55 14.6545060529\n",
      "56 14.6186920994\n",
      "57 14.5831868148\n",
      "58 14.5479875388\n",
      "59 14.5130916339\n",
      "60 14.4784964854\n",
      "61 14.4441995013\n",
      "62 14.4101981116\n",
      "63 14.3764897688\n",
      "64 14.3430719472\n",
      "65 14.3099421427\n",
      "66 14.2770978731\n",
      "67 14.2445366774\n",
      "68 14.2122561158\n",
      "69 14.1802537697\n",
      "70 14.1485272412\n",
      "71 14.1170741529\n",
      "72 14.0858921484\n",
      "73 14.054978891\n",
      "74 14.0243320647\n",
      "75 13.993949373\n",
      "76 13.9638285394\n",
      "77 13.9339673071\n",
      "78 13.9043634386\n",
      "79 13.8750147157\n",
      "80 13.8459189395\n",
      "81 13.8170739298\n",
      "82 13.7884775253\n",
      "83 13.7601275834\n",
      "84 13.7320219799\n",
      "85 13.7041586088\n",
      "86 13.6765353824\n",
      "87 13.649150231\n",
      "88 13.6220011027\n",
      "89 13.5950859632\n",
      "90 13.5684027959\n",
      "91 13.5419496014\n",
      "92 13.5157243976\n",
      "93 13.4897252196\n",
      "94 13.4639501192\n",
      "95 13.4383971653\n",
      "96 13.4130644432\n",
      "97 13.3879500548\n",
      "98 13.3630521182\n",
      "99 13.338368768\n",
      "100 13.3138981547\n",
      "101 13.2896384447\n",
      "102 13.2655878204\n",
      "103 13.2417444796\n",
      "104 13.2181066359\n",
      "105 13.194672518\n",
      "106 13.1714403703\n",
      "107 13.1484084518\n",
      "108 13.125575037\n",
      "109 13.1029384148\n",
      "110 13.0804968893\n",
      "111 13.0582487789\n",
      "112 13.0361924167\n",
      "113 13.0143261499\n",
      "114 12.9926483403\n",
      "115 12.9711573635\n",
      "116 12.9498516093\n",
      "117 12.9287294813\n",
      "118 12.9077893969\n",
      "119 12.887029787\n",
      "120 12.8664490962\n",
      "121 12.8460457824\n",
      "122 12.825818317\n",
      "123 12.8057651842\n",
      "124 12.7858848815\n",
      "125 12.7661759195\n",
      "126 12.7466368212\n",
      "127 12.7272661227\n",
      "128 12.7080623727\n",
      "129 12.6890241321\n",
      "130 12.6701499746\n",
      "131 12.651438486\n",
      "132 12.6328882642\n",
      "133 12.6144979192\n",
      "134 12.5962660733\n",
      "135 12.5781913603\n",
      "136 12.5602724259\n",
      "137 12.5425079274\n",
      "138 12.524896534\n",
      "139 12.5074369259\n",
      "140 12.490127795\n",
      "141 12.4729678443\n",
      "142 12.4559557882\n",
      "143 12.4390903519\n",
      "144 12.4223702717\n",
      "145 12.4057942949\n",
      "146 12.3893611794\n",
      "147 12.3730696941\n",
      "148 12.3569186181\n",
      "149 12.3409067414\n",
      "150 12.3250328642\n",
      "151 12.3092957972\n",
      "152 12.2936943611\n",
      "153 12.2782273871\n",
      "154 12.2628937162\n",
      "155 12.2476921996\n",
      "156 12.2326216982\n",
      "157 12.2176810828\n",
      "158 12.202869234\n",
      "159 12.188185042\n",
      "160 12.1736274065\n",
      "161 12.1591952368\n",
      "162 12.1448874515\n",
      "163 12.1307029785\n",
      "164 12.1166407551\n",
      "165 12.1026997277\n",
      "166 12.0888788516\n",
      "167 12.0751770913\n",
      "168 12.0615934202\n",
      "169 12.0481268205\n",
      "170 12.0347762832\n",
      "171 12.021540808\n",
      "172 12.0084194032\n",
      "173 11.9954110856\n",
      "174 11.9825148805\n",
      "175 11.9697298218\n",
      "176 11.9570549514\n",
      "177 11.9444893197\n",
      "178 11.9320319851\n",
      "179 11.9196820144\n",
      "180 11.907438482\n",
      "181 11.8953004707\n",
      "182 11.883267071\n",
      "183 11.8713373813\n",
      "184 11.8595105078\n",
      "185 11.8477855642\n",
      "186 11.8361616721\n",
      "187 11.8246379605\n",
      "188 11.813213566\n",
      "189 11.8018876327\n",
      "190 11.7906593118\n",
      "191 11.7795277621\n",
      "192 11.7684921496\n",
      "193 11.7575516474\n",
      "194 11.7467054357\n",
      "195 11.735952702\n",
      "196 11.7252926404\n",
      "197 11.7147244524\n",
      "198 11.704247346\n",
      "199 11.6938605363\n",
      "200 11.6835632451\n",
      "201 11.6733547007\n",
      "202 11.6632341382\n",
      "203 11.6532007995\n",
      "204 11.6432539328\n",
      "205 11.6333927926\n",
      "206 11.6236166403\n",
      "207 11.6139247433\n",
      "208 11.6043163754\n",
      "209 11.5947908167\n",
      "210 11.5853473535\n",
      "211 11.5759852783\n",
      "212 11.5667038895\n",
      "213 11.5575024918\n",
      "214 11.5483803957\n",
      "215 11.5393369178\n",
      "216 11.5303713804\n",
      "217 11.5214831119\n",
      "218 11.5126714462\n",
      "219 11.5039357231\n",
      "220 11.4952752881\n",
      "221 11.4866894923\n",
      "222 11.4781776925\n",
      "223 11.4697392508\n",
      "224 11.461373535\n",
      "225 11.4530799182\n",
      "226 11.4448577792\n",
      "227 11.4367065018\n",
      "228 11.4286254753\n",
      "229 11.4206140942\n",
      "230 11.4126717583\n",
      "231 11.4047978725\n",
      "232 11.3969918468\n",
      "233 11.3892530963\n",
      "234 11.3815810413\n",
      "235 11.3739751069\n",
      "236 11.3664347232\n",
      "237 11.3589593252\n",
      "238 11.3515483529\n",
      "239 11.344201251\n",
      "240 11.336917469\n",
      "241 11.3296964611\n",
      "242 11.3225376864\n",
      "243 11.3154406084\n",
      "244 11.3084046955\n",
      "245 11.3014294204\n",
      "246 11.2945142605\n",
      "247 11.2876586976\n",
      "248 11.2808622183\n",
      "249 11.2741243131\n",
      "250 11.2674444774\n",
      "251 11.2608222105\n",
      "252 11.2542570163\n",
      "253 11.247748403\n",
      "254 11.2412958828\n",
      "255 11.2348989724\n",
      "256 11.2285571924\n",
      "257 11.2222700677\n",
      "258 11.2160371271\n",
      "259 11.2098579038\n",
      "260 11.2037319347\n",
      "261 11.1976587609\n",
      "262 11.1916379273\n",
      "263 11.1856689828\n",
      "264 11.1797514802\n",
      "265 11.1738849761\n",
      "266 11.168069031\n",
      "267 11.1623032092\n",
      "268 11.1565870785\n",
      "269 11.1509202108\n",
      "270 11.1453021815\n",
      "271 11.1397325696\n",
      "272 11.1342109579\n",
      "273 11.1287369326\n",
      "274 11.1233100836\n",
      "275 11.1179300043\n",
      "276 11.1125962916\n",
      "277 11.1073085459\n",
      "278 11.102066371\n",
      "279 11.0968693741\n",
      "280 11.0917171659\n",
      "281 11.0866093603\n",
      "282 11.0815455747\n",
      "283 11.0765254296\n",
      "284 11.0715485489\n",
      "285 11.0666145598\n",
      "286 11.0617230925\n",
      "287 11.0568737806\n",
      "288 11.0520662608\n",
      "289 11.0473001728\n",
      "290 11.0425751595\n",
      "291 11.037890867\n",
      "292 11.0332469443\n",
      "293 11.0286430435\n",
      "294 11.0240788195\n",
      "295 11.0195539305\n",
      "296 11.0150680374\n",
      "297 11.0106208042\n",
      "298 11.0062118975\n",
      "299 11.0018409872\n",
      "300 10.9975077457\n",
      "301 10.9932118483\n",
      "302 10.9889529733\n",
      "303 10.9847308014\n",
      "304 10.9805450165\n",
      "305 10.9763953048\n",
      "306 10.9722813555\n",
      "307 10.9682028603\n",
      "308 10.9641595136\n",
      "309 10.9601510126\n",
      "310 10.9561770569\n",
      "311 10.9522373488\n",
      "312 10.948331593\n",
      "313 10.944459497\n",
      "314 10.9406207707\n",
      "315 10.9368151264\n",
      "316 10.933042279\n",
      "317 10.9293019459\n",
      "318 10.9255938468\n",
      "319 10.921917704\n",
      "320 10.9182732419\n",
      "321 10.9146601875\n",
      "322 10.9110782702\n",
      "323 10.9075272216\n",
      "324 10.9040067756\n",
      "325 10.9005166684\n",
      "326 10.8970566387\n",
      "327 10.8936264271\n",
      "328 10.8902257767\n",
      "329 10.8868544326\n",
      "330 10.8835121424\n",
      "331 10.8801986555\n",
      "332 10.8769137238\n",
      "333 10.8736571011\n",
      "334 10.8704285434\n",
      "335 10.8672278089\n",
      "336 10.8640546578\n",
      "337 10.8609088523\n",
      "338 10.8577901567\n",
      "339 10.8546983374\n",
      "340 10.8516331627\n",
      "341 10.848594403\n",
      "342 10.8455818307\n",
      "343 10.8425952199\n",
      "344 10.8396343471\n",
      "345 10.8366989903\n",
      "346 10.8337889296\n",
      "347 10.830903947\n",
      "348 10.8280438264\n",
      "349 10.8252083535\n",
      "350 10.8223973158\n",
      "351 10.8196105028\n",
      "352 10.8168477057\n",
      "353 10.8141087174\n",
      "354 10.8113933328\n",
      "355 10.8087013484\n",
      "356 10.8060325626\n",
      "357 10.8033867754\n",
      "358 10.8007637886\n",
      "359 10.7981634057\n",
      "360 10.7955854319\n",
      "361 10.7930296739\n",
      "362 10.7904959405\n",
      "363 10.7879840416\n",
      "364 10.7854937893\n",
      "365 10.7830249968\n",
      "366 10.7805774792\n",
      "367 10.7781510531\n",
      "368 10.7757455369\n",
      "369 10.7733607502\n",
      "370 10.7709965144\n",
      "371 10.7686526524\n",
      "372 10.7663289885\n",
      "373 10.7640253487\n",
      "374 10.7617415605\n",
      "375 10.7594774526\n",
      "376 10.7572328556\n",
      "377 10.7550076012\n",
      "378 10.7528015227\n",
      "379 10.7506144549\n",
      "380 10.7484462338\n",
      "381 10.7462966972\n",
      "382 10.7441656838\n",
      "383 10.7420530342\n",
      "384 10.7399585899\n",
      "385 10.7378821942\n",
      "386 10.7358236914\n",
      "387 10.7337829274\n",
      "388 10.7317597492\n",
      "389 10.7297540052\n",
      "390 10.7277655453\n",
      "391 10.7257942205\n",
      "392 10.723839883\n",
      "393 10.7219023864\n",
      "394 10.7199815857\n",
      "395 10.7180773369\n",
      "396 10.7161894973\n",
      "397 10.7143179256\n",
      "398 10.7124624814\n",
      "399 10.7106230259\n",
      "400 10.7087994213\n",
      "401 10.7069915308\n",
      "402 10.7051992191\n",
      "403 10.7034223518\n",
      "404 10.701660796\n",
      "405 10.6999144196\n",
      "406 10.6981830918\n",
      "407 10.6964666828\n",
      "408 10.6947650642\n",
      "409 10.6930781084\n",
      "410 10.691405689\n",
      "411 10.6897476809\n",
      "412 10.6881039597\n",
      "413 10.6864744023\n",
      "414 10.6848588867\n",
      "415 10.6832572918\n",
      "416 10.6816694977\n",
      "417 10.6800953853\n",
      "418 10.6785348369\n",
      "419 10.6769877354\n",
      "420 10.6754539651\n",
      "421 10.6739334109\n",
      "422 10.672425959\n",
      "423 10.6709314965\n",
      "424 10.6694499113\n",
      "425 10.6679810926\n",
      "426 10.6665249303\n",
      "427 10.6650813153\n",
      "428 10.6636501394\n",
      "429 10.6622312955\n",
      "430 10.6608246773\n",
      "431 10.6594301793\n",
      "432 10.6580476972\n",
      "433 10.6566771274\n",
      "434 10.6553183671\n",
      "435 10.6539713147\n",
      "436 10.6526358692\n",
      "437 10.6513119306\n",
      "438 10.6499993997\n",
      "439 10.6486981781\n",
      "440 10.6474081685\n",
      "441 10.6461292741\n",
      "442 10.6448613992\n",
      "443 10.6436044489\n",
      "444 10.6423583288\n",
      "445 10.6411229458\n",
      "446 10.6398982072\n",
      "447 10.6386840213\n",
      "448 10.6374802972\n",
      "449 10.6362869448\n",
      "450 10.6351038745\n",
      "451 10.6339309978\n",
      "452 10.6327682268\n",
      "453 10.6316154745\n",
      "454 10.6304726545\n",
      "455 10.6293396811\n",
      "456 10.6282164696\n",
      "457 10.6271029357\n",
      "458 10.6259989962\n",
      "459 10.6249045682\n",
      "460 10.6238195698\n",
      "461 10.6227439197\n",
      "462 10.6216775374\n",
      "463 10.620620343\n",
      "464 10.6195722573\n",
      "465 10.6185332017\n",
      "466 10.6175030986\n",
      "467 10.6164818706\n",
      "468 10.6154694413\n",
      "469 10.614465735\n",
      "470 10.6134706763\n",
      "471 10.6124841908\n",
      "472 10.6115062045\n",
      "473 10.6105366443\n",
      "474 10.6095754375\n",
      "475 10.6086225121\n",
      "476 10.6076777967\n",
      "477 10.6067412205\n",
      "478 10.6058127135\n",
      "479 10.6048922061\n",
      "480 10.6039796293\n",
      "481 10.6030749147\n",
      "482 10.6021779947\n",
      "483 10.601288802\n",
      "484 10.60040727\n",
      "485 10.5995333328\n",
      "486 10.5986669247\n",
      "487 10.5978079811\n",
      "488 10.5969564374\n",
      "489 10.59611223\n",
      "490 10.5952752956\n",
      "491 10.5944455716\n",
      "492 10.5936229957\n",
      "493 10.5928075064\n",
      "494 10.5919990426\n",
      "495 10.5911975437\n",
      "496 10.5904029498\n",
      "497 10.5896152013\n",
      "498 10.5888342392\n",
      "499 10.588060005\n"
     ]
    }
   ],
   "source": [
    "cost, weights = gradient_descent(X,y,B,epoch=500,alpha=0.0001)"
   ]
  },
  {
   "cell_type": "code",
   "execution_count": 65,
   "metadata": {},
   "outputs": [
    {
     "data": {
      "text/plain": [
       "(18.076027940915424, 10.588060004954528)"
      ]
     },
     "execution_count": 65,
     "metadata": {},
     "output_type": "execute_result"
    }
   ],
   "source": [
    "cost[0], cost[-1]"
   ]
  },
  {
   "cell_type": "code",
   "execution_count": 66,
   "metadata": {},
   "outputs": [
    {
     "data": {
      "text/plain": [
       "[<matplotlib.lines.Line2D at 0x1fb17af87f0>]"
      ]
     },
     "execution_count": 66,
     "metadata": {},
     "output_type": "execute_result"
    },
    {
     "data": {
      "image/png": "[encoded data removed]",
      "text/plain": [
       "<matplotlib.figure.Figure at 0x1fb14fa5470>"
      ]
     },
     "metadata": {},
     "output_type": "display_data"
    }
   ],
   "source": [
    "cost_x = [i for i in range(500)]\n",
    "plt.plot(cost_x, cost)"
   ]
  },
  {
   "cell_type": "code",
   "execution_count": 63,
   "metadata": {},
   "outputs": [],
   "source": [
    "y_pred = X.T.dot(weights)"
   ]
  },
  {
   "cell_type": "code",
   "execution_count": 64,
   "metadata": {},
   "outputs": [
    {
     "data": {
      "text/plain": [
       "-9.2991206830552389e+132"
      ]
     },
     "execution_count": 64,
     "metadata": {},
     "output_type": "execute_result"
    }
   ],
   "source": [
    "y_pred[0]"
   ]
  },
  {
   "cell_type": "code",
   "execution_count": 65,
   "metadata": {},
   "outputs": [
    {
     "data": {
      "text/plain": [
       "132500"
      ]
     },
     "execution_count": 65,
     "metadata": {},
     "output_type": "execute_result"
    }
   ],
   "source": [
    "y[0]"
   ]
  },
  {
   "cell_type": "code",
   "execution_count": 67,
   "metadata": {},
   "outputs": [
    {
     "data": {
      "text/plain": [
       "[<mpl_toolkits.mplot3d.art3d.Line3D at 0x2a034186898>]"
      ]
     },
     "execution_count": 67,
     "metadata": {},
     "output_type": "execute_result"
    },
    {
     "data": {
      "image/png": "[encoded data removed]",
      "text/plain": [
       "<matplotlib.figure.Figure at 0x2a0341402b0>"
      ]
     },
     "metadata": {},
     "output_type": "display_data"
    }
   ],
   "source": [
    "fig = plt.figure()\n",
    "ax = Axes3D(fig)\n",
    "ax.plot(livingArea, landValue, price, 'ro')"
   ]
  }
 ],
 "metadata": {
  "kernelspec": {
   "display_name": "Python 3",
   "language": "python",
   "name": "python3"
  },
  "language_info": {
   "codemirror_mode": {
    "name": "ipython",
    "version": 3
   },
   "file_extension": ".py",
   "mimetype": "text/x-python",
   "name": "python",
   "nbconvert_exporter": "python",
   "pygments_lexer": "ipython3",
   "version": "3.5.4"
  }
 },
 "nbformat": 4,
 "nbformat_minor": 2
}
