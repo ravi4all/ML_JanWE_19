{
 "cells": [
  {
   "cell_type": "code",
   "execution_count": 1,
   "metadata": {
    "collapsed": true
   },
   "outputs": [],
   "source": [
    "import numpy as np\n",
    "import pandas as pd\n",
    "import matplotlib.pyplot as plt\n",
    "from mpl_toolkits.mplot3d import Axes3D\n",
    "%matplotlib inline"
   ]
  },
  {
   "cell_type": "code",
   "execution_count": 2,
   "metadata": {
    "collapsed": true
   },
   "outputs": [],
   "source": [
    "dataset = pd.read_csv('SaratogaHouses.csv')"
   ]
  },
  {
   "cell_type": "code",
   "execution_count": 3,
   "metadata": {
    "collapsed": true
   },
   "outputs": [],
   "source": [
    "livingArea = dataset['livingArea'].values\n",
    "landValue = dataset['landValue'].values\n",
    "price = dataset['price'].values"
   ]
  },
  {
   "cell_type": "code",
   "execution_count": 4,
   "metadata": {
    "collapsed": true
   },
   "outputs": [],
   "source": [
    "from sklearn.preprocessing import StandardScaler"
   ]
  },
  {
   "cell_type": "code",
   "execution_count": 5,
   "metadata": {
    "collapsed": true
   },
   "outputs": [],
   "source": [
    "n = len(price)\n",
    "X0 = np.ones(n)\n",
    "X = np.array([X0, livingArea, landValue]).T\n",
    "y = np.array(price)\n",
    "B = np.zeros(3)"
   ]
  },
  {
   "cell_type": "code",
   "execution_count": 12,
   "metadata": {},
   "outputs": [
    {
     "name": "stderr",
     "output_type": "stream",
     "text": [
      "C:\\Users\\asus\\Anaconda3\\lib\\site-packages\\sklearn\\utils\\validation.py:475: DataConversionWarning: Data with input dtype int64 was converted to float64 by StandardScaler.\n",
      "  warnings.warn(msg, DataConversionWarning)\n"
     ]
    }
   ],
   "source": [
    "sc = StandardScaler()\n",
    "X = sc.fit_transform(X)\n",
    "y = y.reshape(y.shape[0],1)\n",
    "y = sc.fit_transform(y)"
   ]
  },
  {
   "cell_type": "code",
   "execution_count": 13,
   "metadata": {
    "collapsed": true
   },
   "outputs": [],
   "source": [
    "def cost_function(X,y,B):\n",
    "    h = np.sum((X.dot(B) - y) ** 2) / (2 * n)\n",
    "    return h"
   ]
  },
  {
   "cell_type": "code",
   "execution_count": 14,
   "metadata": {},
   "outputs": [
    {
     "data": {
      "text/plain": [
       "864.00000000000011"
      ]
     },
     "execution_count": 14,
     "metadata": {},
     "output_type": "execute_result"
    }
   ],
   "source": [
    "cost_function(X,y,B)"
   ]
  },
  {
   "cell_type": "code",
   "execution_count": 15,
   "metadata": {
    "collapsed": true
   },
   "outputs": [],
   "source": [
    "def gradient_descent(X,y,B,epoch,alpha):\n",
    "    cost_history = [0] * epoch\n",
    "    \n",
    "    for i in range(epoch):\n",
    "        y_pred = X.dot(B)\n",
    "        loss = y_pred - y\n",
    "        gradient = X.T.dot(loss) / n\n",
    "        B = B - alpha * gradient\n",
    "        cost_history[i] = cost_function(X,y,B)\n",
    "        print(i, cost_history[i])\n",
    "    \n",
    "    return cost_history, B"
   ]
  },
  {
   "cell_type": "code",
   "execution_count": 39,
   "metadata": {},
   "outputs": [
    {
     "name": "stdout",
     "output_type": "stream",
     "text": [
      "0 27299310120.5\n",
      "1 27291151560.1\n",
      "2 27283016068.9\n",
      "3 27274903581.5\n",
      "4 27266814032.6\n",
      "5 27258747357.1\n",
      "6 27250703490.0\n",
      "7 27242682366.8\n",
      "8 27234683922.8\n",
      "9 27226708093.6\n",
      "10 27218754815.1\n",
      "11 27210824023.4\n",
      "12 27202915654.5\n",
      "13 27195029644.8\n",
      "14 27187165931.0\n",
      "15 27179324449.8\n",
      "16 27171505137.9\n",
      "17 27163707932.7\n",
      "18 27155932771.2\n",
      "19 27148179591.0\n",
      "20 27140448329.7\n",
      "21 27132738925.1\n",
      "22 27125051315.1\n",
      "23 27117385438.0\n",
      "24 27109741232.0\n",
      "25 27102118635.7\n",
      "26 27094517587.7\n",
      "27 27086938027.0\n",
      "28 27079379892.4\n",
      "29 27071843123.3\n",
      "30 27064327659.0\n",
      "31 27056833439.1\n",
      "32 27049360403.3\n",
      "33 27041908491.4\n",
      "34 27034477643.5\n",
      "35 27027067799.9\n",
      "36 27019678901.0\n",
      "37 27012310887.2\n",
      "38 27004963699.5\n",
      "39 26997637278.7\n",
      "40 26990331565.8\n",
      "41 26983046502.1\n",
      "42 26975782029.0\n",
      "43 26968538088.2\n",
      "44 26961314621.2\n",
      "45 26954111570.1\n",
      "46 26946928877.0\n",
      "47 26939766484.0\n",
      "48 26932624333.5\n",
      "49 26925502368.2\n",
      "50 26918400530.7\n",
      "51 26911318764.0\n",
      "52 26904257011.1\n",
      "53 26897215215.2\n",
      "54 26890193319.7\n",
      "55 26883191268.2\n",
      "56 26876209004.3\n",
      "57 26869246471.9\n",
      "58 26862303615.0\n",
      "59 26855380377.8\n",
      "60 26848476704.6\n",
      "61 26841592540.0\n",
      "62 26834727828.5\n",
      "63 26827882515.0\n",
      "64 26821056544.5\n",
      "65 26814249862.1\n",
      "66 26807462413.0\n",
      "67 26800694142.7\n",
      "68 26793944996.8\n",
      "69 26787214921.1\n",
      "70 26780503861.3\n",
      "71 26773811763.6\n",
      "72 26767138574.2\n",
      "73 26760484239.5\n",
      "74 26753848705.9\n",
      "75 26747231920.1\n",
      "76 26740633828.9\n",
      "77 26734054379.3\n",
      "78 26727493518.5\n",
      "79 26720951193.6\n",
      "80 26714427352.1\n",
      "81 26707921941.6\n",
      "82 26701434909.7\n",
      "83 26694966204.4\n",
      "84 26688515773.6\n",
      "85 26682083565.5\n",
      "86 26675669528.5\n",
      "87 26669273610.9\n",
      "88 26662895761.3\n",
      "89 26656535928.6\n",
      "90 26650194061.6\n",
      "91 26643870109.3\n",
      "92 26637564021.0\n",
      "93 26631275745.9\n",
      "94 26625005233.5\n",
      "95 26618752433.4\n",
      "96 26612517295.4\n",
      "97 26606299769.4\n",
      "98 26600099805.5\n",
      "99 26593917353.7\n",
      "100 26587752364.5\n",
      "101 26581604788.3\n",
      "102 26575474575.7\n",
      "103 26569361677.4\n",
      "104 26563266044.4\n",
      "105 26557187627.7\n",
      "106 26551126378.4\n",
      "107 26545082247.9\n",
      "108 26539055187.5\n",
      "109 26533045149.0\n",
      "110 26527052083.9\n",
      "111 26521075944.1\n",
      "112 26515116681.7\n",
      "113 26509174248.7\n",
      "114 26503248597.5\n",
      "115 26497339680.4\n",
      "116 26491447450.0\n",
      "117 26485571858.9\n",
      "118 26479712860.0\n",
      "119 26473870406.1\n",
      "120 26468044450.4\n",
      "121 26462234946.1\n",
      "122 26456441846.5\n",
      "123 26450665105.0\n",
      "124 26444904675.4\n",
      "125 26439160511.2\n",
      "126 26433432566.4\n",
      "127 26427720795.1\n",
      "128 26422025151.2\n",
      "129 26416345589.1\n",
      "130 26410682063.1\n",
      "131 26405034527.9\n",
      "132 26399402938.0\n",
      "133 26393787248.1\n",
      "134 26388187413.3\n",
      "135 26382603388.6\n",
      "136 26377035129.0\n",
      "137 26371482590.0\n",
      "138 26365945726.8\n",
      "139 26360424495.1\n",
      "140 26354918850.6\n",
      "141 26349428749.0\n",
      "142 26343954146.2\n",
      "143 26338494998.3\n",
      "144 26333051261.4\n",
      "145 26327622891.9\n",
      "146 26322209846.2\n",
      "147 26316812080.8\n",
      "148 26311429552.4\n",
      "149 26306062217.8\n",
      "150 26300710033.9\n",
      "151 26295372957.6\n",
      "152 26290050946.3\n",
      "153 26284743957.1\n",
      "154 26279451947.5\n",
      "155 26274174875.0\n",
      "156 26268912697.1\n",
      "157 26263665371.8\n",
      "158 26258432856.8\n",
      "159 26253215110.3\n",
      "160 26248012090.2\n",
      "161 26242823754.8\n",
      "162 26237650062.5\n",
      "163 26232490971.8\n",
      "164 26227346441.3\n",
      "165 26222216429.6\n",
      "166 26217100895.6\n",
      "167 26211999798.3\n",
      "168 26206913096.7\n",
      "169 26201840750.0\n",
      "170 26196782717.5\n",
      "171 26191738958.7\n",
      "172 26186709432.9\n",
      "173 26181694099.9\n",
      "174 26176692919.5\n",
      "175 26171705851.4\n",
      "176 26166732855.8\n",
      "177 26161773892.6\n",
      "178 26156828922.1\n",
      "179 26151897904.7\n",
      "180 26146980800.7\n",
      "181 26142077570.7\n",
      "182 26137188175.5\n",
      "183 26132312575.6\n",
      "184 26127450732.1\n",
      "185 26122602605.9\n",
      "186 26117768158.2\n",
      "187 26112947350.1\n",
      "188 26108140143.0\n",
      "189 26103346498.3\n",
      "190 26098566377.6\n",
      "191 26093799742.6\n",
      "192 26089046554.9\n",
      "193 26084306776.5\n",
      "194 26079580369.3\n",
      "195 26074867295.5\n",
      "196 26070167517.2\n",
      "197 26065480996.7\n",
      "198 26060807696.6\n",
      "199 26056147579.2\n"
     ]
    }
   ],
   "source": [
    "cost, weights = gradient_descent(X,y.flatten(),B,epoch=200,alpha=0.001)"
   ]
  },
  {
   "cell_type": "code",
   "execution_count": 21,
   "metadata": {},
   "outputs": [
    {
     "data": {
      "text/plain": [
       "[<matplotlib.lines.Line2D at 0x2611cd50b00>]"
      ]
     },
     "execution_count": 21,
     "metadata": {},
     "output_type": "execute_result"
    },
    {
     "data": {
      "image/png": "[encoded data removed]",
      "text/plain": [
       "<matplotlib.figure.Figure at 0x2611cbd29b0>"
      ]
     },
     "metadata": {},
     "output_type": "display_data"
    }
   ],
   "source": [
    "cost_x = [i for i in range(200)]\n",
    "plt.plot(cost_x, cost)"
   ]
  },
  {
   "cell_type": "code",
   "execution_count": 22,
   "metadata": {},
   "outputs": [
    {
     "data": {
      "text/plain": [
       "0.20030648830078465"
      ]
     },
     "execution_count": 22,
     "metadata": {},
     "output_type": "execute_result"
    }
   ],
   "source": [
    "cost[-1]"
   ]
  },
  {
   "cell_type": "code",
   "execution_count": 30,
   "metadata": {
    "collapsed": true
   },
   "outputs": [],
   "source": [
    "y_pred = X.dot(weights)"
   ]
  },
  {
   "cell_type": "code",
   "execution_count": 31,
   "metadata": {},
   "outputs": [],
   "source": [
    "y_pred = sc.inverse_transform(y_pred)"
   ]
  },
  {
   "cell_type": "code",
   "execution_count": 32,
   "metadata": {},
   "outputs": [
    {
     "data": {
      "text/plain": [
       "158903.10740402876"
      ]
     },
     "execution_count": 32,
     "metadata": {},
     "output_type": "execute_result"
    }
   ],
   "source": [
    "y_pred[0]"
   ]
  },
  {
   "cell_type": "code",
   "execution_count": 33,
   "metadata": {
    "collapsed": true
   },
   "outputs": [],
   "source": [
    "y = sc.inverse_transform(y)"
   ]
  },
  {
   "cell_type": "code",
   "execution_count": 34,
   "metadata": {},
   "outputs": [
    {
     "data": {
      "text/plain": [
       "array([ 132500.])"
      ]
     },
     "execution_count": 34,
     "metadata": {},
     "output_type": "execute_result"
    }
   ],
   "source": [
    "y[0]"
   ]
  },
  {
   "cell_type": "code",
   "execution_count": 35,
   "metadata": {},
   "outputs": [
    {
     "data": {
      "text/plain": [
       "array([-26403.10740403])"
      ]
     },
     "execution_count": 35,
     "metadata": {},
     "output_type": "execute_result"
    }
   ],
   "source": [
    "y[0] - y_pred[0]"
   ]
  },
  {
   "cell_type": "code",
   "execution_count": 36,
   "metadata": {
    "collapsed": true
   },
   "outputs": [],
   "source": [
    "from sklearn.metrics import mean_squared_error"
   ]
  },
  {
   "cell_type": "code",
   "execution_count": 38,
   "metadata": {},
   "outputs": [
    {
     "data": {
      "text/plain": [
       "62289.457422760963"
      ]
     },
     "execution_count": 38,
     "metadata": {},
     "output_type": "execute_result"
    }
   ],
   "source": [
    "np.sqrt(mean_squared_error(y_pred, y))"
   ]
  },
  {
   "cell_type": "code",
   "execution_count": null,
   "metadata": {
    "collapsed": true
   },
   "outputs": [],
   "source": []
  }
 ],
 "metadata": {
  "kernelspec": {
   "display_name": "Python 3",
   "language": "python",
   "name": "python3"
  },
  "language_info": {
   "codemirror_mode": {
    "name": "ipython",
    "version": 3
   },
   "file_extension": ".py",
   "mimetype": "text/x-python",
   "name": "python",
   "nbconvert_exporter": "python",
   "pygments_lexer": "ipython3",
   "version": "3.5.4"
  }
 },
 "nbformat": 4,
 "nbformat_minor": 2
}
