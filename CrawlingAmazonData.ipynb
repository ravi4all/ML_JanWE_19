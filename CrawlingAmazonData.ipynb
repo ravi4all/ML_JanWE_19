{
 "cells": [
  {
   "cell_type": "code",
   "execution_count": 1,
   "metadata": {
    "collapsed": true
   },
   "outputs": [],
   "source": [
    "# Source of Data\n",
    "# Database\n",
    "# Files - JSON, CSV, TSV, EXCEL....\n",
    "# API\n",
    "# Web"
   ]
  },
  {
   "cell_type": "code",
   "execution_count": 2,
   "metadata": {
    "collapsed": true
   },
   "outputs": [],
   "source": [
    "# Fetching data from any website - web crawling\n",
    "\n",
    "# bs4 - Beautiful Soup\n",
    "import bs4\n",
    "import urllib.request as url"
   ]
  },
  {
   "cell_type": "code",
   "execution_count": 3,
   "metadata": {
    "collapsed": true
   },
   "outputs": [],
   "source": [
    "web = url.urlopen('https://www.amazon.in/Apple-iPhone-Storage-Camera-Display/product-reviews/B072LPF91D/ref=cm_cr_dp_d_show_all_btm?ie=UTF8&reviewerType=all_reviews')"
   ]
  },
  {
   "cell_type": "code",
   "execution_count": 4,
   "metadata": {},
   "outputs": [
    {
     "name": "stdout",
     "output_type": "stream",
     "text": [
      "<http.client.HTTPResponse object at 0x00000171E419D7F0>\n"
     ]
    }
   ],
   "source": [
    "print(web)"
   ]
  },
  {
   "cell_type": "code",
   "execution_count": 5,
   "metadata": {
    "collapsed": true
   },
   "outputs": [],
   "source": [
    "bs = bs4.BeautifulSoup(web, 'lxml')"
   ]
  },
  {
   "cell_type": "code",
   "execution_count": 6,
   "metadata": {
    "collapsed": true
   },
   "outputs": [],
   "source": [
    "reviews = bs.find('a', class_='review-title')"
   ]
  },
  {
   "cell_type": "code",
   "execution_count": 7,
   "metadata": {},
   "outputs": [
    {
     "name": "stdout",
     "output_type": "stream",
     "text": [
      "<a class=\"a-size-base a-link-normal review-title a-color-base a-text-bold\" data-hook=\"review-title\" href=\"/gp/customer-reviews/R3ST4VQTXN6FN3?ASIN=B072LPF91D\">Amazon Return support is too poor</a>\n"
     ]
    }
   ],
   "source": [
    "print(reviews)"
   ]
  },
  {
   "cell_type": "code",
   "execution_count": 8,
   "metadata": {
    "collapsed": true
   },
   "outputs": [],
   "source": [
    "reviews = bs.find_all('a', class_='review-title')"
   ]
  },
  {
   "cell_type": "code",
   "execution_count": 10,
   "metadata": {},
   "outputs": [
    {
     "name": "stdout",
     "output_type": "stream",
     "text": [
      "Amazon Return support is too poor\n",
      "Amazing beast(iPhone X 256 GB) for discount!!\n",
      "An amazing deal at INR 69,999/-\n",
      "Battery charging is very bad in my new iPhone X\n",
      "The Best Device ! All i need is my Iphone.\n",
      "Shame don't buy\n",
      "Iphone was not in working condition\n",
      "Bad product (BUT GOOD SERVICE FROM AMAZON)😊\n",
      "Not Genuien\n",
      "Heating, US model(without engraving at back)\n"
     ]
    }
   ],
   "source": [
    "# print(reviews)\n",
    "for review in reviews:\n",
    "    print(review.text)"
   ]
  },
  {
   "cell_type": "code",
   "execution_count": 13,
   "metadata": {
    "collapsed": true
   },
   "outputs": [],
   "source": [
    "web = url.urlopen('https://www.amazon.in/Apple-iPhone-Space-Grey-Storage/dp/B072LPF91D/ref=br_msw_pdt-1?_encoding=UTF8&smid=A14CZOWI0VEHLG&pf_rd_m=A1VBAL9TL5WCBF&pf_rd_s=&pf_rd_r=AK7C2FNX0B7Q1FZ9671C&pf_rd_t=36701&pf_rd_p=ba94e3ba-51a5-4848-b49d-0f067cfce50e&pf_rd_i=desktop')"
   ]
  },
  {
   "cell_type": "code",
   "execution_count": 14,
   "metadata": {
    "collapsed": true
   },
   "outputs": [],
   "source": [
    "bs = bs4.BeautifulSoup(web, 'lxml')"
   ]
  },
  {
   "cell_type": "code",
   "execution_count": 25,
   "metadata": {
    "collapsed": true
   },
   "outputs": [],
   "source": [
    "desc = bs.find('div', id='feature-bullets')"
   ]
  },
  {
   "cell_type": "code",
   "execution_count": 26,
   "metadata": {},
   "outputs": [],
   "source": [
    "# print(desc.text.strip())\n",
    "desc = desc.text.replace('  ', '')"
   ]
  },
  {
   "cell_type": "code",
   "execution_count": 27,
   "metadata": {},
   "outputs": [],
   "source": [
    "desc = desc.replace('\\t','')"
   ]
  },
  {
   "cell_type": "code",
   "execution_count": 29,
   "metadata": {},
   "outputs": [],
   "source": [
    "desc = desc.replace('\\n\\n','')"
   ]
  },
  {
   "cell_type": "code",
   "execution_count": 30,
   "metadata": {},
   "outputs": [
    {
     "name": "stdout",
     "output_type": "stream",
     "text": [
      " \n",
      "Camera: 12+12 MP Dual rear camera with Dual optical image stabilization, Portrait Mode, Digital zoom up to 10x, Quad-LED True tone flash and Slow sync, 4K Video recording at 24 fps or 30 fps or 60 fps and Slow-motion video recording in 1080p at 120 fps | 7 MP front TrueDepth camera with Retina Flash and Animoji feature\n",
      " \n",
      "Display: 14.73 centimeters (5.8-inch) Full HD+ capacitive touchscreen display with 2436x1125 pixels\n",
      " \n",
      "Memory, Storage & SIM: 3GB RAM | 64GB storage | Single nano SIM\n",
      " \n",
      "Operating System and Processor: iOS v11.1.1 operating system with 1.3GHz Apple A11 Bionic hexa core processor\n",
      " \n",
      "Battery: 2716 mAH lithium ion battery providing talk-time of 21 hours\n",
      " \n",
      "Warranty: 1 year manufacturer warranty for device and in-box accessories including batteries from the date of purchase\n",
      " \n",
      "Included in box: Ear pods with Lightning connector (wired), Lightning to 3.5mm Headphone jack adaptor, Lightning to USB Cable and USB Power adaptor\n",
      " \n",
      "Other features: Face ID, Wireless charging, Splash, Water and Dust resistant\n",
      "\n",
      "See more product details\n",
      "\n"
     ]
    }
   ],
   "source": [
    "print(desc)"
   ]
  },
  {
   "cell_type": "code",
   "execution_count": null,
   "metadata": {
    "collapsed": true
   },
   "outputs": [],
   "source": []
  }
 ],
 "metadata": {
  "kernelspec": {
   "display_name": "Python 3",
   "language": "python",
   "name": "python3"
  },
  "language_info": {
   "codemirror_mode": {
    "name": "ipython",
    "version": 3
   },
   "file_extension": ".py",
   "mimetype": "text/x-python",
   "name": "python",
   "nbconvert_exporter": "python",
   "pygments_lexer": "ipython3",
   "version": "3.5.4"
  }
 },
 "nbformat": 4,
 "nbformat_minor": 2
}
