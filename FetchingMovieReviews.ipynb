{
 "cells": [
  {
   "cell_type": "code",
   "execution_count": 1,
   "metadata": {
    "collapsed": true
   },
   "outputs": [],
   "source": [
    "import bs4\n",
    "import urllib.request as url"
   ]
  },
  {
   "cell_type": "code",
   "execution_count": 2,
   "metadata": {},
   "outputs": [
    {
     "name": "stdout",
     "output_type": "stream",
     "text": [
      "Enter movie name : kgf\n"
     ]
    }
   ],
   "source": [
    "movieName = input(\"Enter movie name : \")\n",
    "web = url.urlopen('https://www.imdb.com/find?ref_=nv_sr_fn&q='+movieName)"
   ]
  },
  {
   "cell_type": "code",
   "execution_count": 3,
   "metadata": {
    "collapsed": true
   },
   "outputs": [],
   "source": [
    "bs = bs4.BeautifulSoup(web, 'lxml')\n",
    "td = bs.find('td', class_='result_text')"
   ]
  },
  {
   "cell_type": "code",
   "execution_count": 4,
   "metadata": {},
   "outputs": [
    {
     "data": {
      "text/plain": [
       "<td class=\"result_text\"> <a href=\"/title/tt7838252/?ref_=fn_al_tt_1\">K.G.F: Chapter 1</a> (2018) </td>"
      ]
     },
     "execution_count": 4,
     "metadata": {},
     "output_type": "execute_result"
    }
   ],
   "source": [
    "td"
   ]
  },
  {
   "cell_type": "code",
   "execution_count": 5,
   "metadata": {
    "collapsed": true
   },
   "outputs": [],
   "source": [
    "href = td.find('a')['href']"
   ]
  },
  {
   "cell_type": "code",
   "execution_count": 6,
   "metadata": {},
   "outputs": [
    {
     "data": {
      "text/plain": [
       "'/title/tt7838252/?ref_=fn_al_tt_1'"
      ]
     },
     "execution_count": 6,
     "metadata": {},
     "output_type": "execute_result"
    }
   ],
   "source": [
    "href"
   ]
  },
  {
   "cell_type": "code",
   "execution_count": 7,
   "metadata": {
    "collapsed": true
   },
   "outputs": [],
   "source": [
    "newUrl = 'https://www.imdb.com'+href"
   ]
  },
  {
   "cell_type": "code",
   "execution_count": 8,
   "metadata": {},
   "outputs": [
    {
     "data": {
      "text/plain": [
       "'https://www.imdb.com/title/tt7838252/?ref_=fn_al_tt_1'"
      ]
     },
     "execution_count": 8,
     "metadata": {},
     "output_type": "execute_result"
    }
   ],
   "source": [
    "newUrl"
   ]
  },
  {
   "cell_type": "code",
   "execution_count": 9,
   "metadata": {
    "collapsed": true
   },
   "outputs": [],
   "source": [
    "web = url.urlopen(newUrl)"
   ]
  },
  {
   "cell_type": "code",
   "execution_count": 10,
   "metadata": {
    "collapsed": true
   },
   "outputs": [],
   "source": [
    "bs = bs4.BeautifulSoup(web, 'lxml')"
   ]
  },
  {
   "cell_type": "code",
   "execution_count": 11,
   "metadata": {
    "collapsed": true
   },
   "outputs": [],
   "source": [
    "div = bs.find('div', class_='user-comments')"
   ]
  },
  {
   "cell_type": "code",
   "execution_count": 19,
   "metadata": {},
   "outputs": [],
   "source": [
    "href = div.find_all('a')[4]['href']"
   ]
  },
  {
   "cell_type": "code",
   "execution_count": 20,
   "metadata": {
    "collapsed": true
   },
   "outputs": [],
   "source": [
    "newUrl = 'https://www.imdb.com'+href"
   ]
  },
  {
   "cell_type": "code",
   "execution_count": 21,
   "metadata": {},
   "outputs": [
    {
     "name": "stdout",
     "output_type": "stream",
     "text": [
      "https://www.imdb.com/title/tt7838252/reviews?ref_=tt_urv\n"
     ]
    }
   ],
   "source": [
    "print(newUrl)"
   ]
  },
  {
   "cell_type": "code",
   "execution_count": 22,
   "metadata": {
    "collapsed": true
   },
   "outputs": [],
   "source": [
    "page = url.urlopen(newUrl)"
   ]
  },
  {
   "cell_type": "code",
   "execution_count": 23,
   "metadata": {
    "collapsed": true
   },
   "outputs": [],
   "source": [
    "bs = bs4.BeautifulSoup(page, 'lxml')"
   ]
  },
  {
   "cell_type": "code",
   "execution_count": 24,
   "metadata": {
    "collapsed": true
   },
   "outputs": [],
   "source": [
    "titles = bs.find_all('a', class_='title')"
   ]
  },
  {
   "cell_type": "code",
   "execution_count": 27,
   "metadata": {},
   "outputs": [],
   "source": [
    "# print(titles)"
   ]
  },
  {
   "cell_type": "code",
   "execution_count": 25,
   "metadata": {},
   "outputs": [
    {
     "name": "stdout",
     "output_type": "stream",
     "text": [
      " KGF\n",
      "\n",
      " One awesome mass movie full of heart and passion!\n",
      "\n",
      " Best Action Movie in Indian Cinema\n",
      "\n",
      " Superb movie\n",
      "\n",
      " Yes it's a Hollywood level movie!\n",
      "\n",
      " Superb\n",
      "\n",
      " Marvellous\n",
      "\n",
      " Kgf\n",
      "\n",
      " KGF have fulfilled its premise,, This film deserves serious critics..\n",
      "\n",
      " Mind-blowing\n",
      "\n",
      " Chapter 1 sets the stage for a Macro level showdown in Chapter 2.\n",
      "\n",
      " Breathtaking Movie.... Must Watch..\n",
      "\n",
      " Awsm movie\n",
      "\n",
      " Excellent movie with gripping screenplay\n",
      "\n",
      " KGF MOVIE\n",
      "\n",
      " Powerful !!!\n",
      "\n",
      " Will be Milestone like Bahubali- A Must Watch Indian Cinema\n",
      "\n",
      " Blockbuster\n",
      "\n",
      " Kgf movie Reviem\n",
      "\n",
      " Director brilliance .....waiting for chapter 2.\n",
      "\n",
      " What a mind-blowing movie...!!\n",
      "\n",
      " An amazing visual treat\n",
      "\n",
      " Blockbuster...!!!\n",
      "\n",
      " HATSOFF ROCKY BHAI!!!!!\n",
      "\n",
      " #KGF is a Cinematic Wonder👌(10/10)\n",
      "\n"
     ]
    }
   ],
   "source": [
    "for title in titles:\n",
    "    print(title.text)"
   ]
  },
  {
   "cell_type": "code",
   "execution_count": null,
   "metadata": {
    "collapsed": true
   },
   "outputs": [],
   "source": []
  }
 ],
 "metadata": {
  "kernelspec": {
   "display_name": "Python 3",
   "language": "python",
   "name": "python3"
  },
  "language_info": {
   "codemirror_mode": {
    "name": "ipython",
    "version": 3
   },
   "file_extension": ".py",
   "mimetype": "text/x-python",
   "name": "python",
   "nbconvert_exporter": "python",
   "pygments_lexer": "ipython3",
   "version": "3.5.4"
  }
 },
 "nbformat": 4,
 "nbformat_minor": 2
}
